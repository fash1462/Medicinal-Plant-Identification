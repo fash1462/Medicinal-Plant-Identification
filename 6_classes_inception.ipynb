{
 "cells": [
  {
   "cell_type": "code",
   "execution_count": 1,
   "metadata": {},
   "outputs": [
    {
     "name": "stderr",
     "output_type": "stream",
     "text": [
      "2023-11-20 11:00:45.687232: I tensorflow/core/util/port.cc:111] oneDNN custom operations are on. You may see slightly different numerical results due to floating-point round-off errors from different computation orders. To turn them off, set the environment variable `TF_ENABLE_ONEDNN_OPTS=0`.\n",
      "2023-11-20 11:00:45.822237: I tensorflow/tsl/cuda/cudart_stub.cc:28] Could not find cuda drivers on your machine, GPU will not be used.\n",
      "2023-11-20 11:00:46.309228: E tensorflow/compiler/xla/stream_executor/cuda/cuda_dnn.cc:9342] Unable to register cuDNN factory: Attempting to register factory for plugin cuDNN when one has already been registered\n",
      "2023-11-20 11:00:46.309274: E tensorflow/compiler/xla/stream_executor/cuda/cuda_fft.cc:609] Unable to register cuFFT factory: Attempting to register factory for plugin cuFFT when one has already been registered\n",
      "2023-11-20 11:00:46.313461: E tensorflow/compiler/xla/stream_executor/cuda/cuda_blas.cc:1518] Unable to register cuBLAS factory: Attempting to register factory for plugin cuBLAS when one has already been registered\n",
      "2023-11-20 11:00:46.648833: I tensorflow/tsl/cuda/cudart_stub.cc:28] Could not find cuda drivers on your machine, GPU will not be used.\n",
      "2023-11-20 11:00:46.652101: I tensorflow/core/platform/cpu_feature_guard.cc:182] This TensorFlow binary is optimized to use available CPU instructions in performance-critical operations.\n",
      "To enable the following instructions: AVX2 AVX512F AVX512_VNNI FMA, in other operations, rebuild TensorFlow with the appropriate compiler flags.\n",
      "2023-11-20 11:00:48.720091: W tensorflow/compiler/tf2tensorrt/utils/py_utils.cc:38] TF-TRT Warning: Could not find TensorRT\n"
     ]
    }
   ],
   "source": [
    "# import pertinent libraries\n",
    "import os\n",
    "import sys\n",
    "import datetime\n",
    "import glob as glob\n",
    "import numpy as np\n",
    "import cv2\n",
    "from keras.applications.vgg16 import VGG16, preprocess_input\n",
    "from keras.models import Model\n",
    "from keras.layers import Dense, GlobalAveragePooling2D\n",
    "from keras.preprocessing.image import ImageDataGenerator, array_to_img, img_to_array, load_img\n",
    "from keras.optimizers import SGD\n",
    "import tensorflow\n",
    "import pandas as pd\n",
    "import matplotlib.pyplot as plt\n",
    "%matplotlib inline\n",
    "import pandas as pd\n",
    "import numpy as np\n",
    "import tensorflow as tf"
   ]
  },
  {
   "cell_type": "code",
   "execution_count": 2,
   "metadata": {},
   "outputs": [
    {
     "name": "stdout",
     "output_type": "stream",
     "text": [
      "Found 528 files belonging to 6 classes.\n"
     ]
    },
    {
     "name": "stderr",
     "output_type": "stream",
     "text": [
      "2023-11-20 11:00:53.920197: I tensorflow/compiler/xla/stream_executor/cuda/cuda_gpu_executor.cc:880] could not open file to read NUMA node: /sys/bus/pci/devices/0000:01:00.0/numa_node\n",
      "Your kernel may have been built without NUMA support.\n",
      "2023-11-20 11:00:53.920627: W tensorflow/core/common_runtime/gpu/gpu_device.cc:2211] Cannot dlopen some GPU libraries. Please make sure the missing libraries mentioned above are installed properly if you would like to use GPU. Follow the guide at https://www.tensorflow.org/install/gpu for how to download and setup the required libraries for your platform.\n",
      "Skipping registering GPU devices...\n"
     ]
    },
    {
     "data": {
      "text/plain": [
       "['Aloevera', 'Amla', 'Amruthaballi', 'Arali', 'Astma_weed', 'ashoka']"
      ]
     },
     "execution_count": 2,
     "metadata": {},
     "output_type": "execute_result"
    }
   ],
   "source": [
    "dataset = tf.keras.preprocessing.image_dataset_from_directory(\n",
    "    \"6_classes_dataset\",\n",
    "    shuffle=True,\n",
    "    batch_size=32,\n",
    "    image_size=(299, 299),\n",
    ")\n",
    "\n",
    "labels = dataset.class_names\n",
    "labels"
   ]
  },
  {
   "cell_type": "code",
   "execution_count": 3,
   "metadata": {},
   "outputs": [
    {
     "name": "stdout",
     "output_type": "stream",
     "text": [
      "(32, 299, 299, 3)\n",
      "[4 2 2 5 0 5 0 5 2 2 3 2 3 1 0 0 0 2 0 3 2 0 4 2 0 4 1 0 2 2 2 0]\n"
     ]
    }
   ],
   "source": [
    "import numpy as np\n",
    "\n",
    "for image_batch, labels_batch in dataset.take(1):\n",
    "    print(image_batch.shape)\n",
    "    print(labels_batch.numpy())\n",
    "    break"
   ]
  },
  {
   "cell_type": "code",
   "execution_count": 4,
   "metadata": {},
   "outputs": [
    {
     "data": {
      "text/plain": [
       "(13, 3)"
      ]
     },
     "execution_count": 4,
     "metadata": {},
     "output_type": "execute_result"
    }
   ],
   "source": [
    "# train test split\n",
    "train_size = int(0.8 * len(dataset))\n",
    "test_size = int(0.2 * len(dataset))\n",
    "train_size, test_size"
   ]
  },
  {
   "cell_type": "code",
   "execution_count": 5,
   "metadata": {},
   "outputs": [],
   "source": [
    "def get_dataset_partisions_tf(ds, train_split=0.8, test_split=0.2, shuffle=True, shuffle_size=10000):\n",
    "    if shuffle:\n",
    "        ds = ds.shuffle(shuffle_size, seed=12)\n",
    "    train_size = int(train_split * len(ds))\n",
    "    test_size = int(test_split * len(ds))\n",
    "    train_ds = ds.take(train_size)\n",
    "    test_ds = ds.skip(train_size)\n",
    "    val_ds = test_ds.skip(test_size)\n",
    "    test_ds = test_ds.take(test_size)\n",
    "    return train_ds, test_ds, val_ds"
   ]
  },
  {
   "cell_type": "code",
   "execution_count": 6,
   "metadata": {},
   "outputs": [
    {
     "data": {
      "text/plain": [
       "(13, 3, 1)"
      ]
     },
     "execution_count": 6,
     "metadata": {},
     "output_type": "execute_result"
    }
   ],
   "source": [
    "train_ds, test_ds, val_ds = get_dataset_partisions_tf(dataset)\n",
    "len(train_ds), len(test_ds), len(val_ds)"
   ]
  },
  {
   "cell_type": "code",
   "execution_count": 7,
   "metadata": {},
   "outputs": [],
   "source": [
    "resize_and_rescale = tf.keras.Sequential([\n",
    "    tf.keras.layers.experimental.preprocessing.Resizing(299, 299),\n",
    "    tf.keras.layers.experimental.preprocessing.Rescaling(1./255)\n",
    "])"
   ]
  },
  {
   "cell_type": "markdown",
   "metadata": {},
   "source": [
    "Inception V3"
   ]
  },
  {
   "cell_type": "code",
   "execution_count": 8,
   "metadata": {},
   "outputs": [],
   "source": [
    "# train using Xception\n",
    "base_model = tf.keras.applications.InceptionV3(\n",
    "    weights='imagenet',\n",
    "    input_shape=(299, 299, 3),\n",
    "    include_top=False,\n",
    "    pooling='avg',\n",
    "    classifier_activation='softmax',\n",
    "    classes=len(labels)\n",
    ")"
   ]
  },
  {
   "cell_type": "code",
   "execution_count": 9,
   "metadata": {},
   "outputs": [
    {
     "name": "stdout",
     "output_type": "stream",
     "text": [
      "Model: \"model\"\n",
      "_________________________________________________________________\n",
      " Layer (type)                Output Shape              Param #   \n",
      "=================================================================\n",
      " input_2 (InputLayer)        [(None, 299, 299, 3)]     0         \n",
      "                                                                 \n",
      " sequential (Sequential)     (None, 299, 299, 3)       0         \n",
      "                                                                 \n",
      " inception_v3 (Functional)   (None, 2048)              21802784  \n",
      "                                                                 \n",
      " dense (Dense)               (None, 128)               262272    \n",
      "                                                                 \n",
      " dropout (Dropout)           (None, 128)               0         \n",
      "                                                                 \n",
      " dense_1 (Dense)             (None, 6)                 774       \n",
      "                                                                 \n",
      "=================================================================\n",
      "Total params: 22065830 (84.17 MB)\n",
      "Trainable params: 263046 (1.00 MB)\n",
      "Non-trainable params: 21802784 (83.17 MB)\n",
      "_________________________________________________________________\n",
      "Epoch 1/20\n",
      "13/13 [==============================] - 26s 2s/step - loss: 1.2366 - accuracy: 0.5500 - val_loss: 0.6854 - val_accuracy: 0.7812\n",
      "Epoch 2/20\n",
      "13/13 [==============================] - 25s 2s/step - loss: 0.3506 - accuracy: 0.8990 - val_loss: 0.1665 - val_accuracy: 0.9375\n",
      "Epoch 3/20\n",
      "13/13 [==============================] - 27s 2s/step - loss: 0.2047 - accuracy: 0.9425 - val_loss: 0.0917 - val_accuracy: 0.9688\n",
      "Epoch 4/20\n",
      "13/13 [==============================] - 28s 2s/step - loss: 0.1466 - accuracy: 0.9600 - val_loss: 0.0744 - val_accuracy: 1.0000\n",
      "Epoch 5/20\n",
      "13/13 [==============================] - 26s 2s/step - loss: 0.1147 - accuracy: 0.9639 - val_loss: 0.0538 - val_accuracy: 1.0000\n",
      "Epoch 6/20\n",
      "13/13 [==============================] - 24s 2s/step - loss: 0.0431 - accuracy: 0.9975 - val_loss: 0.0129 - val_accuracy: 1.0000\n",
      "Epoch 7/20\n",
      "13/13 [==============================] - 25s 2s/step - loss: 0.0390 - accuracy: 0.9925 - val_loss: 0.0220 - val_accuracy: 1.0000\n",
      "Epoch 8/20\n",
      "13/13 [==============================] - 26s 2s/step - loss: 0.0507 - accuracy: 0.9875 - val_loss: 0.0293 - val_accuracy: 1.0000\n",
      "Epoch 9/20\n",
      "13/13 [==============================] - 25s 2s/step - loss: 0.0396 - accuracy: 0.9928 - val_loss: 0.0282 - val_accuracy: 1.0000\n",
      "Epoch 10/20\n",
      "13/13 [==============================] - 24s 2s/step - loss: 0.0222 - accuracy: 1.0000 - val_loss: 0.0075 - val_accuracy: 1.0000\n",
      "Epoch 11/20\n",
      "13/13 [==============================] - 25s 2s/step - loss: 0.0203 - accuracy: 0.9976 - val_loss: 0.0046 - val_accuracy: 1.0000\n",
      "Epoch 12/20\n",
      "13/13 [==============================] - 25s 2s/step - loss: 0.0141 - accuracy: 1.0000 - val_loss: 0.0088 - val_accuracy: 1.0000\n",
      "Epoch 13/20\n",
      "13/13 [==============================] - 24s 2s/step - loss: 0.0131 - accuracy: 1.0000 - val_loss: 0.0048 - val_accuracy: 1.0000\n",
      "Epoch 14/20\n",
      "13/13 [==============================] - 25s 2s/step - loss: 0.0111 - accuracy: 1.0000 - val_loss: 0.0045 - val_accuracy: 1.0000\n",
      "Epoch 15/20\n",
      "13/13 [==============================] - 25s 2s/step - loss: 0.0100 - accuracy: 1.0000 - val_loss: 0.0040 - val_accuracy: 1.0000\n",
      "Epoch 16/20\n",
      "13/13 [==============================] - 26s 2s/step - loss: 0.0094 - accuracy: 1.0000 - val_loss: 0.0069 - val_accuracy: 1.0000\n",
      "Epoch 17/20\n",
      "13/13 [==============================] - 26s 2s/step - loss: 0.0070 - accuracy: 1.0000 - val_loss: 0.0040 - val_accuracy: 1.0000\n",
      "Epoch 18/20\n",
      "13/13 [==============================] - 25s 2s/step - loss: 0.0067 - accuracy: 1.0000 - val_loss: 0.0045 - val_accuracy: 1.0000\n",
      "Epoch 19/20\n",
      "13/13 [==============================] - 24s 2s/step - loss: 0.0067 - accuracy: 1.0000 - val_loss: 0.0014 - val_accuracy: 1.0000\n",
      "Epoch 20/20\n",
      "13/13 [==============================] - 23s 2s/step - loss: 0.0075 - accuracy: 1.0000 - val_loss: 0.0016 - val_accuracy: 1.0000\n"
     ]
    }
   ],
   "source": [
    "base_model.trainable = False\n",
    "\n",
    "inputs = tf.keras.Input(shape=(299, 299, 3))\n",
    "x = resize_and_rescale(inputs)\n",
    "x = base_model(x, training=False)\n",
    "x = tf.keras.layers.Dense(128, activation='relu')(x)\n",
    "x = tf.keras.layers.Dropout(0.2)(x)\n",
    "outputs = tf.keras.layers.Dense(len(labels), activation='softmax')(x)\n",
    "model = tf.keras.Model(inputs, outputs)\n",
    "\n",
    "model.compile(\n",
    "    optimizer='adam',\n",
    "    loss='sparse_categorical_crossentropy',\n",
    "    metrics=['accuracy']\n",
    ")\n",
    "\n",
    "model.summary()\n",
    "\n",
    "history = model.fit(\n",
    "    train_ds,\n",
    "    validation_data=val_ds,\n",
    "    batch_size=32,\n",
    "    epochs=20\n",
    ")"
   ]
  },
  {
   "cell_type": "code",
   "execution_count": 10,
   "metadata": {},
   "outputs": [
    {
     "name": "stdout",
     "output_type": "stream",
     "text": [
      "3/3 [==============================] - 6s 2s/step - loss: 0.0031 - accuracy: 1.0000\n"
     ]
    },
    {
     "data": {
      "text/plain": [
       "[0.003062313422560692, 1.0]"
      ]
     },
     "execution_count": 10,
     "metadata": {},
     "output_type": "execute_result"
    }
   ],
   "source": [
    "model.evaluate(test_ds)"
   ]
  },
  {
   "cell_type": "code",
   "execution_count": 11,
   "metadata": {},
   "outputs": [
    {
     "name": "stdout",
     "output_type": "stream",
     "text": [
      "1/1 [==============================] - 1s 1s/step\n",
      "This image most likely belongs to Aloevera with a 64.87 percent confidence.\n"
     ]
    }
   ],
   "source": [
    "# predict with new images\n",
    "import numpy as np\n",
    "\n",
    "img = tf.keras.preprocessing.image.load_img(\n",
    "    'test_images/WhatsApp Image 2023-11-15 at 19.16.33_670b31d1.jpg', target_size=(299, 299)\n",
    ")\n",
    "img_array = tf.keras.preprocessing.image.img_to_array(img)\n",
    "img_array = tf.expand_dims(img_array, 0)  # Create a batch\n",
    "\n",
    "\n",
    "predictions = model.predict(img_array)\n",
    "score = tf.nn.sigmoid(predictions[0])\n",
    "print(\n",
    "    \"This image most likely belongs to {} with a {:.2f} percent confidence.\"\n",
    "    .format(labels[np.argmax(score)], 100 * np.max(score))\n",
    ")"
   ]
  },
  {
   "cell_type": "code",
   "execution_count": 16,
   "metadata": {},
   "outputs": [
    {
     "name": "stdout",
     "output_type": "stream",
     "text": [
      "1/1 [==============================] - 0s 121ms/step\n",
      "This image most likely belongs to Amruthaballi with a 69.33 percent confidence.\n"
     ]
    }
   ],
   "source": [
    "# predict with new images\n",
    "import numpy as np\n",
    "\n",
    "img = tf.keras.preprocessing.image.load_img(\n",
    "    'test_images/amrithaballi.jpg', target_size=(299, 299)\n",
    ")\n",
    "img_array = tf.keras.preprocessing.image.img_to_array(img)\n",
    "img_array = tf.expand_dims(img_array, 0)  # Create a batch\n",
    "\n",
    "\n",
    "predictions = model.predict(img_array)\n",
    "score = tf.nn.sigmoid(predictions[0])\n",
    "print(\n",
    "    \"This image most likely belongs to {} with a {:.2f} percent confidence.\"\n",
    "    .format(labels[np.argmax(score)], 100 * np.max(score))\n",
    ")"
   ]
  },
  {
   "cell_type": "code",
   "execution_count": 12,
   "metadata": {},
   "outputs": [
    {
     "name": "stderr",
     "output_type": "stream",
     "text": [
      "/home/fash1462/.local/bin/.virtualenvs/be_proj/lib/python3.10/site-packages/keras/src/engine/training.py:3079: UserWarning: You are saving your model as an HDF5 file via `model.save()`. This file format is considered legacy. We recommend using instead the native Keras format, e.g. `model.save('my_model.keras')`.\n",
      "  saving_api.save_model(\n"
     ]
    }
   ],
   "source": [
    "model.save('model_6_classes_inception.h5')"
   ]
  }
 ],
 "metadata": {
  "kernelspec": {
   "display_name": "be_proj",
   "language": "python",
   "name": "python3"
  },
  "language_info": {
   "codemirror_mode": {
    "name": "ipython",
    "version": 3
   },
   "file_extension": ".py",
   "mimetype": "text/x-python",
   "name": "python",
   "nbconvert_exporter": "python",
   "pygments_lexer": "ipython3",
   "version": "3.10.12"
  }
 },
 "nbformat": 4,
 "nbformat_minor": 2
}
